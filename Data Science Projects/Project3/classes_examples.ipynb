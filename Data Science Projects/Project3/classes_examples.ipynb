{
 "cells": [
  {
   "cell_type": "code",
   "execution_count": 1,
   "metadata": {},
   "outputs": [],
   "source": [
    "import datadotworld as dw\n"
   ]
  },
  {
   "cell_type": "code",
   "execution_count": 3,
   "metadata": {},
   "outputs": [
    {
     "name": "stdout",
     "output_type": "stream",
     "text": [
      "    playerid  yearid  stint teamid lgid   g   ab   r   h  2b  ...  rbi  sb  \\\n",
      "0  abercda01    1871      1    TRO   NA   1    4   0   0   0  ...    0   0   \n",
      "1   addybo01    1871      1    RC1   NA  25  118  30  32   6  ...   13   8   \n",
      "\n",
      "   cs  bb  so   ibb   hbp    sh    sf gidp  \n",
      "0   0   0   0  None  None  None  None    0  \n",
      "1   1   4   0  None  None  None  None    0  \n",
      "\n",
      "[2 rows x 22 columns]\n"
     ]
    }
   ],
   "source": [
    "qr = dw.query('byuidss/cse-250-baseball-database', \n",
    "                'SELECT * FROM batting LIMIT 2')\n",
    "print(qr.dataframe)"
   ]
  }
 ],
 "metadata": {
  "interpreter": {
   "hash": "879d193fec41838907740fe3ad07584a850324c41feaf3fc33a5dbc5ecf9d73b"
  },
  "kernelspec": {
   "display_name": "Python 3.8.2 64-bit",
   "name": "python3"
  },
  "language_info": {
   "codemirror_mode": {
    "name": "ipython",
    "version": 3
   },
   "file_extension": ".py",
   "mimetype": "text/x-python",
   "name": "python",
   "nbconvert_exporter": "python",
   "pygments_lexer": "ipython3",
   "version": "3.8.2"
  },
  "orig_nbformat": 4
 },
 "nbformat": 4,
 "nbformat_minor": 2
}
