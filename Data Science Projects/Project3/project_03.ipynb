{
 "cells": [
  {
   "cell_type": "markdown",
   "metadata": {},
   "source": [
    "# Project 3: Finding relationships in baseball"
   ]
  },
  {
   "cell_type": "code",
   "execution_count": 1,
   "metadata": {},
   "outputs": [],
   "source": [
    "import datadotworld as dw\n",
    "import altair as alt"
   ]
  },
  {
   "cell_type": "markdown",
   "metadata": {},
   "source": [
    "## 1. Write an SQL query to create a new dataframe about baseball players who attended BYU-Idaho.\n"
   ]
  },
  {
   "cell_type": "code",
   "execution_count": 3,
   "metadata": {},
   "outputs": [
    {
     "name": "stdout",
     "output_type": "stream",
     "text": [
      "|    | playerID   | schoolID   |   Year | Team   |   Salary |\n",
      "|---:|:-----------|:-----------|-------:|:-------|---------:|\n",
      "|  0 | lindsma01  | idbyuid    |   2014 | CHA    |  4000000 |\n",
      "|  1 | lindsma01  | idbyuid    |   2012 | BAL    |  3600000 |\n",
      "|  2 | lindsma01  | idbyuid    |   2011 | COL    |  2800000 |\n",
      "|  3 | lindsma01  | idbyuid    |   2013 | CHA    |  2300000 |\n",
      "|  4 | lindsma01  | idbyuid    |   2010 | HOU    |  1625000 |\n",
      "|  5 | stephga01  | idbyuid    |   2001 | SLN    |  1025000 |\n",
      "|  6 | stephga01  | idbyuid    |   2002 | SLN    |   900000 |\n",
      "|  7 | stephga01  | idbyuid    |   2003 | SLN    |   800000 |\n",
      "|  8 | stephga01  | idbyuid    |   2000 | SLN    |   550000 |\n",
      "|  9 | lindsma01  | idbyuid    |   2009 | FLO    |   410000 |\n",
      "| 10 | lindsma01  | idbyuid    |   2008 | FLO    |   395000 |\n",
      "| 11 | lindsma01  | idbyuid    |   2007 | FLO    |   380000 |\n",
      "| 12 | stephga01  | idbyuid    |   1999 | SLN    |   215000 |\n",
      "| 13 | stephga01  | idbyuid    |   1998 | PHI    |   185000 |\n",
      "| 14 | stephga01  | idbyuid    |   1997 | PHI    |   150000 |\n"
     ]
    }
   ],
   "source": [
    "byu_baseball = dw.query('byuidss/cse-250-baseball-database', \n",
    "                \"\"\"SELECT DISTINCT playerid as playerID , schoolid AS schoolID, s.yearid AS Year, s.teamid AS Team, salary AS Salary\n",
    "                    FROM collegeplaying cp\n",
    "                    JOIN salaries s\n",
    "                    USING(playerid)\n",
    "                    WHERE schoolid = 'idbyuid'\n",
    "                    ORDER BY salary DESC\"\"\")\n",
    "print(byu_baseball.dataframe.to_markdown())"
   ]
  },
  {
   "cell_type": "markdown",
   "metadata": {},
   "source": [
    "## 2. This three-part question requires you to calculate batting average (number of hits divided by the number of at-bats)"
   ]
  },
  {
   "cell_type": "markdown",
   "metadata": {},
   "source": [
    "### a. Write an SQL query that provides playerID, yearID, and batting average for players with at least 1 at bat that year. Sort the table from highest batting average to lowest, and then by playerid alphabetically. Show the top 5 results in your report."
   ]
  },
  {
   "cell_type": "code",
   "execution_count": 12,
   "metadata": {},
   "outputs": [
    {
     "name": "stdout",
     "output_type": "stream",
     "text": [
      "|    | playerID   |   Year |   Batt_avg |\n",
      "|---:|:-----------|-------:|-----------:|\n",
      "|  0 | aberal01   |   1957 |          1 |\n",
      "|  1 | abernte02  |   1960 |          1 |\n",
      "|  2 | abramge01  |   1923 |          1 |\n",
      "|  3 | acklefr01  |   1964 |          1 |\n",
      "|  4 | alanirj01  |   2019 |          1 |\n"
     ]
    }
   ],
   "source": [
    "bat_avg_1 = dw.query('byuidss/cse-250-baseball-database', \n",
    "                \"\"\"SELECT playerid AS playerID, yearid AS Year, h/ab as Batt_avg\n",
    "                    FROM batting\n",
    "                    WHERE ab >= 1\n",
    "                    ORDER BY Batt_avg DESC, playerID\n",
    "                    LIMIT 5\"\"\")\n",
    "print(bat_avg_1.dataframe.to_markdown())\n"
   ]
  },
  {
   "cell_type": "markdown",
   "metadata": {},
   "source": []
  },
  {
   "cell_type": "markdown",
   "metadata": {},
   "source": [
    "### b. Use the same query as above, but only include players with at least 10 at bats that year. Print the top 5 results."
   ]
  },
  {
   "cell_type": "code",
   "execution_count": 5,
   "metadata": {},
   "outputs": [
    {
     "name": "stdout",
     "output_type": "stream",
     "text": [
      "|    | playerID   |   Year |   Batt_avg |\n",
      "|---:|:-----------|-------:|-----------:|\n",
      "|  0 | nymanny01  |   1974 |   0.642857 |\n",
      "|  1 | carsoma01  |   2013 |   0.636364 |\n",
      "|  2 | altizda01  |   1910 |   0.6      |\n",
      "|  3 | johnsde01  |   1975 |   0.6      |\n",
      "|  4 | silvech01  |   1948 |   0.571429 |\n"
     ]
    }
   ],
   "source": [
    "bat_avg_2 = dw.query('byuidss/cse-250-baseball-database', \n",
    "                \"\"\"SELECT playerid AS playerID, yearid AS Year, h/ab as Batt_avg\n",
    "                    FROM batting\n",
    "                    WHERE ab >= 10\n",
    "                    ORDER BY batt_avg DESC\n",
    "                    LIMIT 5\"\"\")\n",
    "print(bat_avg_2.dataframe.to_markdown())\n"
   ]
  },
  {
   "cell_type": "markdown",
   "metadata": {},
   "source": [
    "### c. Now calculate the batting average for players over their entire careers (all years combined). Only include players with at least 100 at bats, and print the top 5 results."
   ]
  },
  {
   "cell_type": "code",
   "execution_count": 56,
   "metadata": {},
   "outputs": [
    {
     "name": "stdout",
     "output_type": "stream",
     "text": [
      "|    | playerID   |   Batt_Career_Avg |   sum |   sum_2 |\n",
      "|---:|:-----------|------------------:|------:|--------:|\n",
      "|  0 | cobbty01   |          0.366299 |  4189 |   11436 |\n",
      "|  1 | barnero01  |          0.359682 |   860 |    2391 |\n",
      "|  2 | hornsro01  |          0.358497 |  2930 |    8173 |\n",
      "|  3 | jacksjo01  |          0.355752 |  1772 |    4981 |\n",
      "|  4 | meyerle01  |          0.355509 |   513 |    1443 |\n"
     ]
    }
   ],
   "source": [
    "bat_avg_3 = dw.query('byuidss/cse-250-baseball-database', \n",
    "                \"\"\"SELECT playerid AS playerID, SUM(h)/SUM(ab) AS Batt_Career_Avg, SUM(h), SUM(ab)\n",
    "                    FROM batting\n",
    "                    GROUP BY playerid   \n",
    "                    HAVING SUM(ab)>= 100  \n",
    "                    ORDER BY Batt_Career_Avg DESC           \n",
    "                    LIMIT 5\"\"\")\n",
    "\n",
    "print(bat_avg_3.dataframe.to_markdown())"
   ]
  },
  {
   "cell_type": "markdown",
   "metadata": {},
   "source": [
    "Examples to solve question  3"
   ]
  },
  {
   "cell_type": "code",
   "execution_count": 7,
   "metadata": {},
   "outputs": [
    {
     "name": "stdout",
     "output_type": "stream",
     "text": [
      "|    |   yearid | teamid   |              avg | name                |\n",
      "|---:|---------:|:---------|-----------------:|:--------------------|\n",
      "|  0 |     2010 | NYA      |      8.25334e+06 | New York Yankees    |\n",
      "|  1 |     2014 | NYA      |      8.231e+06   | New York Yankees    |\n",
      "|  2 |     2005 | NYA      |      8.0118e+06  | New York Yankees    |\n",
      "|  3 |     2009 | NYA      |      7.74805e+06 | New York Yankees    |\n",
      "|  4 |     2016 | NYA      |      7.68958e+06 | New York Yankees    |\n",
      "|  5 |     2013 | NYA      |      7.48319e+06 | New York Yankees    |\n",
      "|  6 |     2015 | LAN      |      7.4411e+06  | Los Angeles Dodgers |\n",
      "|  7 |     2015 | NYA      |      7.33627e+06 | New York Yankees    |\n",
      "|  8 |     2013 | LAN      |      6.98007e+06 | Los Angeles Dodgers |\n",
      "|  9 |     2011 | NYA      |      6.975e+06   | New York Yankees    |\n",
      "| 10 |     2006 | NYA      |      6.95225e+06 | New York Yankees    |\n",
      "| 11 |     2008 | NYA      |      6.92989e+06 | New York Yankees    |\n",
      "| 12 |     2014 | LAN      |      6.78171e+06 | Los Angeles Dodgers |\n",
      "| 13 |     2012 | NYA      |      6.77663e+06 | New York Yankees    |\n",
      "| 14 |     2007 | NYA      |      6.75925e+06 | New York Yankees    |\n",
      "| 15 |     2004 | NYA      |      6.35152e+06 | New York Yankees    |\n",
      "| 16 |     2016 | LAN      |      6.32253e+06 | Los Angeles Dodgers |\n",
      "| 17 |     2003 | NYA      |      5.45535e+06 | New York Yankees    |\n",
      "| 18 |     2002 | NYA      |      4.34236e+06 | New York Yankees    |\n",
      "| 19 |     2003 | LAN      |      4.2229e+06  | Los Angeles Dodgers |\n",
      "| 20 |     2008 | LAN      |      4.08926e+06 | Los Angeles Dodgers |\n",
      "| 21 |     2009 | LAN      |      4.01658e+06 | Los Angeles Dodgers |\n",
      "| 22 |     2001 | LAN      |      3.76227e+06 | Los Angeles Dodgers |\n",
      "| 23 |     2007 | LAN      |      3.73981e+06 | Los Angeles Dodgers |\n",
      "| 24 |     2002 | LAN      |      3.64811e+06 | Los Angeles Dodgers |\n",
      "| 25 |     2001 | NYA      |      3.62217e+06 | New York Yankees    |\n",
      "| 26 |     2010 | LAN      |      3.53178e+06 | Los Angeles Dodgers |\n",
      "| 27 |     2006 | LAN      |      3.51597e+06 | Los Angeles Dodgers |\n",
      "| 28 |     2011 | LAN      |      3.47297e+06 | Los Angeles Dodgers |\n",
      "| 29 |     2004 | LAN      |      3.44081e+06 | Los Angeles Dodgers |\n",
      "| 30 |     2000 | LAN      |      3.3817e+06  | Los Angeles Dodgers |\n",
      "| 31 |     2000 | NYA      |      3.2978e+06  | New York Yankees    |\n",
      "| 32 |     2012 | LAN      |      3.17145e+06 | Los Angeles Dodgers |\n",
      "| 33 |     1999 | NYA      |      2.99084e+06 | New York Yankees    |\n",
      "| 34 |     2005 | LAN      |      2.76797e+06 | Los Angeles Dodgers |\n",
      "| 35 |     1999 | LAN      |      2.37831e+06 | Los Angeles Dodgers |\n",
      "| 36 |     1997 | NYA      |      2.14626e+06 | New York Yankees    |\n",
      "| 37 |     1998 | NYA      |      2.08771e+06 | New York Yankees    |\n",
      "| 38 |     1996 | NYA      |      1.59388e+06 | New York Yankees    |\n",
      "| 39 |     1994 | NYA      |      1.57694e+06 | New York Yankees    |\n",
      "| 40 |     1992 | LAN      |      1.54442e+06 | Los Angeles Dodgers |\n",
      "| 41 |     1997 | LAN      |      1.51268e+06 | Los Angeles Dodgers |\n",
      "| 42 |     1995 | NYA      |      1.4375e+06  | New York Yankees    |\n",
      "| 43 |     1998 | LAN      |      1.43588e+06 | Los Angeles Dodgers |\n",
      "| 44 |     1993 | NYA      |      1.29166e+06 | New York Yankees    |\n",
      "| 45 |     1993 | LAN      |      1.22912e+06 | Los Angeles Dodgers |\n",
      "| 46 |     1994 | LAN      |      1.22581e+06 | Los Angeles Dodgers |\n",
      "| 47 |     1992 | NYA      |      1.13768e+06 | New York Yankees    |\n",
      "| 48 |     1996 | LAN      |      1.10484e+06 | Los Angeles Dodgers |\n",
      "| 49 |     1991 | LAN      |      1.09302e+06 | Los Angeles Dodgers |\n",
      "| 50 |     1995 | LAN      |      1.06144e+06 | Los Angeles Dodgers |\n",
      "| 51 |     1991 | NYA      | 976577           | New York Yankees    |\n",
      "| 52 |     1985 | NYA      | 711910           | New York Yankees    |\n",
      "| 53 |     1989 | LAN      | 679728           | Los Angeles Dodgers |\n",
      "| 54 |     1986 | NYA      | 660509           | New York Yankees    |\n",
      "| 55 |     1988 | NYA      | 648038           | New York Yankees    |\n",
      "| 56 |     1990 | NYA      | 633707           | New York Yankees    |\n",
      "| 57 |     1990 | LAN      | 609106           | Los Angeles Dodgers |\n",
      "| 58 |     1988 | LAN      | 561684           | Los Angeles Dodgers |\n",
      "| 59 |     1989 | NYA      | 552077           | New York Yankees    |\n",
      "| 60 |     1987 | NYA      | 488563           | New York Yankees    |\n",
      "| 61 |     1987 | LAN      | 488407           | Los Angeles Dodgers |\n",
      "| 62 |     1985 | LAN      | 476866           | Los Angeles Dodgers |\n",
      "| 63 |     1986 | LAN      | 466056           | Los Angeles Dodgers |\n"
     ]
    }
   ],
   "source": [
    "teams_lan_nya = dw.query('byuidss/cse-250-baseball-database', \n",
    "                \"\"\" SELECT s.yearid, teamid, AVG(salary), name\n",
    "                    FROM salaries s\n",
    "                    JOIN teams t\n",
    "                    USING (teamid)\n",
    "                    WHERE teamid = 'LAN' OR teamid = 'NYA'\n",
    "                    GROUP BY s.yearid,teamid\n",
    "                    ORDER BY AVG(salary) desc\"\"\")\n",
    "print(teams_lan_nya.dataframe.to_markdown())\n"
   ]
  },
  {
   "cell_type": "code",
   "execution_count": 9,
   "metadata": {},
   "outputs": [
    {
     "data": {
      "text/html": [
       "\n",
       "<div id=\"altair-viz-4dc3e60a90224ee4b490a0607adfa498\"></div>\n",
       "<script type=\"text/javascript\">\n",
       "  (function(spec, embedOpt){\n",
       "    let outputDiv = document.currentScript.previousElementSibling;\n",
       "    if (outputDiv.id !== \"altair-viz-4dc3e60a90224ee4b490a0607adfa498\") {\n",
       "      outputDiv = document.getElementById(\"altair-viz-4dc3e60a90224ee4b490a0607adfa498\");\n",
       "    }\n",
       "    const paths = {\n",
       "      \"vega\": \"https://cdn.jsdelivr.net/npm//vega@5?noext\",\n",
       "      \"vega-lib\": \"https://cdn.jsdelivr.net/npm//vega-lib?noext\",\n",
       "      \"vega-lite\": \"https://cdn.jsdelivr.net/npm//vega-lite@4.8.1?noext\",\n",
       "      \"vega-embed\": \"https://cdn.jsdelivr.net/npm//vega-embed@6?noext\",\n",
       "    };\n",
       "\n",
       "    function loadScript(lib) {\n",
       "      return new Promise(function(resolve, reject) {\n",
       "        var s = document.createElement('script');\n",
       "        s.src = paths[lib];\n",
       "        s.async = true;\n",
       "        s.onload = () => resolve(paths[lib]);\n",
       "        s.onerror = () => reject(`Error loading script: ${paths[lib]}`);\n",
       "        document.getElementsByTagName(\"head\")[0].appendChild(s);\n",
       "      });\n",
       "    }\n",
       "\n",
       "    function showError(err) {\n",
       "      outputDiv.innerHTML = `<div class=\"error\" style=\"color:red;\">${err}</div>`;\n",
       "      throw err;\n",
       "    }\n",
       "\n",
       "    function displayChart(vegaEmbed) {\n",
       "      vegaEmbed(outputDiv, spec, embedOpt)\n",
       "        .catch(err => showError(`Javascript Error: ${err.message}<br>This usually means there's a typo in your chart specification. See the javascript console for the full traceback.`));\n",
       "    }\n",
       "\n",
       "    if(typeof define === \"function\" && define.amd) {\n",
       "      requirejs.config({paths});\n",
       "      require([\"vega-embed\"], displayChart, err => showError(`Error loading script: ${err.message}`));\n",
       "    } else if (typeof vegaEmbed === \"function\") {\n",
       "      displayChart(vegaEmbed);\n",
       "    } else {\n",
       "      loadScript(\"vega\")\n",
       "        .then(() => loadScript(\"vega-lite\"))\n",
       "        .then(() => loadScript(\"vega-embed\"))\n",
       "        .catch(showError)\n",
       "        .then(() => displayChart(vegaEmbed));\n",
       "    }\n",
       "  })({\"config\": {\"view\": {\"continuousWidth\": 400, \"continuousHeight\": 300}}, \"data\": {\"name\": \"data-2c573161cd94a1a95d8d4821aebed23d\"}, \"mark\": \"line\", \"encoding\": {\"color\": {\"type\": \"nominal\", \"field\": \"name\", \"title\": \"Top Famous USA Teams\"}, \"x\": {\"type\": \"quantitative\", \"axis\": {\"title\": \"Year\"}, \"field\": \"yearid\"}, \"y\": {\"type\": \"quantitative\", \"axis\": {\"title\": \"Average Salary ($)\"}, \"field\": \"avg\"}}, \"title\": \"The Average Salary of the 2 Most Famous Teams in USA\", \"$schema\": \"https://vega.github.io/schema/vega-lite/v4.8.1.json\", \"datasets\": {\"data-2c573161cd94a1a95d8d4821aebed23d\": [{\"yearid\": 2010, \"teamid\": \"NYA\", \"avg\": 8253335.56, \"name\": \"New York Yankees\"}, {\"yearid\": 2014, \"teamid\": \"NYA\", \"avg\": 8230996.125, \"name\": \"New York Yankees\"}, {\"yearid\": 2005, \"teamid\": \"NYA\", \"avg\": 8011800.653846154, \"name\": \"New York Yankees\"}, {\"yearid\": 2009, \"teamid\": \"NYA\", \"avg\": 7748045.730769231, \"name\": \"New York Yankees\"}, {\"yearid\": 2016, \"teamid\": \"NYA\", \"avg\": 7689579.0344827585, \"name\": \"New York Yankees\"}, {\"yearid\": 2013, \"teamid\": \"NYA\", \"avg\": 7483189.870967742, \"name\": \"New York Yankees\"}, {\"yearid\": 2015, \"teamid\": \"LAN\", \"avg\": 7441103.448275862, \"name\": \"Los Angeles Dodgers\"}, {\"yearid\": 2015, \"teamid\": \"NYA\", \"avg\": 7336274.379310345, \"name\": \"New York Yankees\"}, {\"yearid\": 2013, \"teamid\": \"LAN\", \"avg\": 6980068.625, \"name\": \"Los Angeles Dodgers\"}, {\"yearid\": 2011, \"teamid\": \"NYA\", \"avg\": 6975000.9655172415, \"name\": \"New York Yankees\"}, {\"yearid\": 2006, \"teamid\": \"NYA\", \"avg\": 6952252.821428572, \"name\": \"New York Yankees\"}, {\"yearid\": 2008, \"teamid\": \"NYA\", \"avg\": 6929892.966666667, \"name\": \"New York Yankees\"}, {\"yearid\": 2014, \"teamid\": \"LAN\", \"avg\": 6781706.25, \"name\": \"Los Angeles Dodgers\"}, {\"yearid\": 2012, \"teamid\": \"NYA\", \"avg\": 6776630.655172414, \"name\": \"New York Yankees\"}, {\"yearid\": 2007, \"teamid\": \"NYA\", \"avg\": 6759251.607142857, \"name\": \"New York Yankees\"}, {\"yearid\": 2004, \"teamid\": \"NYA\", \"avg\": 6351515.517241379, \"name\": \"New York Yankees\"}, {\"yearid\": 2016, \"teamid\": \"LAN\", \"avg\": 6322525.142857143, \"name\": \"Los Angeles Dodgers\"}, {\"yearid\": 2003, \"teamid\": \"NYA\", \"avg\": 5455350.5, \"name\": \"New York Yankees\"}, {\"yearid\": 2002, \"teamid\": \"NYA\", \"avg\": 4342364.931034483, \"name\": \"New York Yankees\"}, {\"yearid\": 2003, \"teamid\": \"LAN\", \"avg\": 4222904.8, \"name\": \"Los Angeles Dodgers\"}, {\"yearid\": 2008, \"teamid\": \"LAN\", \"avg\": 4089259.8620689656, \"name\": \"Los Angeles Dodgers\"}, {\"yearid\": 2009, \"teamid\": \"LAN\", \"avg\": 4016583.68, \"name\": \"Los Angeles Dodgers\"}, {\"yearid\": 2001, \"teamid\": \"LAN\", \"avg\": 3762274.2413793104, \"name\": \"Los Angeles Dodgers\"}, {\"yearid\": 2007, \"teamid\": \"LAN\", \"avg\": 3739811.172413793, \"name\": \"Los Angeles Dodgers\"}, {\"yearid\": 2002, \"teamid\": \"LAN\", \"avg\": 3648113.576923077, \"name\": \"Los Angeles Dodgers\"}, {\"yearid\": 2001, \"teamid\": \"NYA\", \"avg\": 3622165.9032258065, \"name\": \"New York Yankees\"}, {\"yearid\": 2010, \"teamid\": \"LAN\", \"avg\": 3531778.3703703703, \"name\": \"Los Angeles Dodgers\"}, {\"yearid\": 2006, \"teamid\": \"LAN\", \"avg\": 3515970.964285714, \"name\": \"Los Angeles Dodgers\"}, {\"yearid\": 2011, \"teamid\": \"LAN\", \"avg\": 3472966.6333333333, \"name\": \"Los Angeles Dodgers\"}, {\"yearid\": 2004, \"teamid\": \"LAN\", \"avg\": 3440814.8518518517, \"name\": \"Los Angeles Dodgers\"}, {\"yearid\": 2000, \"teamid\": \"LAN\", \"avg\": 3381703.3076923075, \"name\": \"Los Angeles Dodgers\"}, {\"yearid\": 2000, \"teamid\": \"NYA\", \"avg\": 3297795.0, \"name\": \"New York Yankees\"}, {\"yearid\": 2012, \"teamid\": \"LAN\", \"avg\": 3171452.5, \"name\": \"Los Angeles Dodgers\"}, {\"yearid\": 1999, \"teamid\": \"NYA\", \"avg\": 2990839.9655172415, \"name\": \"New York Yankees\"}, {\"yearid\": 2005, \"teamid\": \"LAN\", \"avg\": 2767966.6666666665, \"name\": \"Los Angeles Dodgers\"}, {\"yearid\": 1999, \"teamid\": \"LAN\", \"avg\": 2378307.4411764704, \"name\": \"Los Angeles Dodgers\"}, {\"yearid\": 1997, \"teamid\": \"NYA\", \"avg\": 2146260.172413793, \"name\": \"New York Yankees\"}, {\"yearid\": 1998, \"teamid\": \"NYA\", \"avg\": 2087714.59375, \"name\": \"New York Yankees\"}, {\"yearid\": 1996, \"teamid\": \"NYA\", \"avg\": 1593876.2352941176, \"name\": \"New York Yankees\"}, {\"yearid\": 1994, \"teamid\": \"NYA\", \"avg\": 1576942.551724138, \"name\": \"New York Yankees\"}, {\"yearid\": 1992, \"teamid\": \"LAN\", \"avg\": 1544419.5172413792, \"name\": \"Los Angeles Dodgers\"}, {\"yearid\": 1997, \"teamid\": \"LAN\", \"avg\": 1512676.8, \"name\": \"Los Angeles Dodgers\"}, {\"yearid\": 1995, \"teamid\": \"NYA\", \"avg\": 1437495.6176470588, \"name\": \"New York Yankees\"}, {\"yearid\": 1998, \"teamid\": \"LAN\", \"avg\": 1435882.3529411764, \"name\": \"Los Angeles Dodgers\"}, {\"yearid\": 1993, \"teamid\": \"NYA\", \"avg\": 1291663.6363636365, \"name\": \"New York Yankees\"}, {\"yearid\": 1993, \"teamid\": \"LAN\", \"avg\": 1229124.96875, \"name\": \"Los Angeles Dodgers\"}, {\"yearid\": 1994, \"teamid\": \"LAN\", \"avg\": 1225806.4838709678, \"name\": \"Los Angeles Dodgers\"}, {\"yearid\": 1992, \"teamid\": \"NYA\", \"avg\": 1137676.7878787878, \"name\": \"New York Yankees\"}, {\"yearid\": 1996, \"teamid\": \"LAN\", \"avg\": 1104843.75, \"name\": \"Los Angeles Dodgers\"}, {\"yearid\": 1991, \"teamid\": \"LAN\", \"avg\": 1093022.1333333333, \"name\": \"Los Angeles Dodgers\"}, {\"yearid\": 1995, \"teamid\": \"LAN\", \"avg\": 1061437.8648648649, \"name\": \"Los Angeles Dodgers\"}, {\"yearid\": 1991, \"teamid\": \"NYA\", \"avg\": 976577.4285714285, \"name\": \"New York Yankees\"}, {\"yearid\": 1985, \"teamid\": \"NYA\", \"avg\": 711910.2, \"name\": \"New York Yankees\"}, {\"yearid\": 1989, \"teamid\": \"LAN\", \"avg\": 679727.8064516129, \"name\": \"Los Angeles Dodgers\"}, {\"yearid\": 1986, \"teamid\": \"NYA\", \"avg\": 660509.0357142857, \"name\": \"New York Yankees\"}, {\"yearid\": 1988, \"teamid\": \"NYA\", \"avg\": 648038.4, \"name\": \"New York Yankees\"}, {\"yearid\": 1990, \"teamid\": \"NYA\", \"avg\": 633706.6060606061, \"name\": \"New York Yankees\"}, {\"yearid\": 1990, \"teamid\": \"LAN\", \"avg\": 609105.8285714285, \"name\": \"Los Angeles Dodgers\"}, {\"yearid\": 1988, \"teamid\": \"LAN\", \"avg\": 561683.8333333334, \"name\": \"Los Angeles Dodgers\"}, {\"yearid\": 1989, \"teamid\": \"NYA\", \"avg\": 552076.6129032258, \"name\": \"New York Yankees\"}, {\"yearid\": 1987, \"teamid\": \"NYA\", \"avg\": 488563.2571428571, \"name\": \"New York Yankees\"}, {\"yearid\": 1987, \"teamid\": \"LAN\", \"avg\": 488407.25, \"name\": \"Los Angeles Dodgers\"}, {\"yearid\": 1985, \"teamid\": \"LAN\", \"avg\": 476865.95652173914, \"name\": \"Los Angeles Dodgers\"}, {\"yearid\": 1986, \"teamid\": \"LAN\", \"avg\": 466055.5, \"name\": \"Los Angeles Dodgers\"}]}}, {\"mode\": \"vega-lite\"});\n",
       "</script>"
      ],
      "text/plain": [
       "alt.Chart(...)"
      ]
     },
     "execution_count": 9,
     "metadata": {},
     "output_type": "execute_result"
    }
   ],
   "source": [
    "main_salary_chart = (alt.Chart(teams_lan_nya.dataframe)\n",
    "                    .encode(alt.X(\"yearid:Q\", axis=alt.Axis(title= \"Year\")),alt.Y(\"avg\", axis=alt.Axis(title=\"Average Salary ($)\",)),color=alt.Color(\"name\",title=\"Top Famous USA Teams\"))\n",
    "                    .mark_line()\n",
    "                    .properties(title = \"The Average Salary of the 2 Most Famous Teams in USA\"))\n",
    "\n",
    "main_salary_chart"
   ]
  }
 ],
 "metadata": {
  "interpreter": {
   "hash": "879d193fec41838907740fe3ad07584a850324c41feaf3fc33a5dbc5ecf9d73b"
  },
  "kernelspec": {
   "display_name": "Python 3.8.2 64-bit",
   "name": "python3"
  },
  "language_info": {
   "codemirror_mode": {
    "name": "ipython",
    "version": 3
   },
   "file_extension": ".py",
   "mimetype": "text/x-python",
   "name": "python",
   "nbconvert_exporter": "python",
   "pygments_lexer": "ipython3",
   "version": "3.8.2"
  },
  "orig_nbformat": 4
 },
 "nbformat": 4,
 "nbformat_minor": 2
}
